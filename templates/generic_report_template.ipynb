{
 "cells": [
  {
   "cell_type": "code",
   "execution_count": 14,
   "metadata": {
    "tags": [
     "parameters"
    ]
   },
   "outputs": [],
   "source": [
    "#Parameters:\n",
    "report_path = None\n",
    "title = None\n",
    "paths = None"
   ]
  },
  {
   "cell_type": "code",
   "execution_count": 17,
   "metadata": {},
   "outputs": [],
   "source": [
    "import dill\n",
    "import pandas as pd\n",
    "from IPython.display import Markdown, display\n",
    "import sys\n",
    "if paths is not None:\n",
    "    sys.path.extend(paths)"
   ]
  },
  {
   "cell_type": "code",
   "execution_count": 18,
   "metadata": {},
   "outputs": [],
   "source": [
    "def display_data(data):\n",
    "    \"\"\"\n",
    "    Recursively display data based on its type.\n",
    "\n",
    "    Args:\n",
    "        data: The data to display, which can be a DataFrame, string, Plotly chart, or nested structure.\n",
    "    \"\"\"\n",
    "    if isinstance(data, dict):\n",
    "        for key, value in data.items():\n",
    "            display(Markdown(f'### {key}'))\n",
    "            display_data(value)\n",
    "    elif isinstance(data, list):\n",
    "        for item in data:\n",
    "            display_data(item)\n",
    "    elif isinstance(data, str):\n",
    "        display(Markdown(data))\n",
    "    elif hasattr(data, 'show'):\n",
    "        data.show()\n",
    "    elif isinstance(data, pd.DataFrame):\n",
    "        display(data)\n",
    "    elif isinstance(data, pd.Series):\n",
    "        display(data.to_frame())\n",
    "    elif isinstance(data, pd.io.formats.style.Styler):\n",
    "        display(data)\n",
    "    else:\n",
    "        print(f'Unsupported data type: {type(data)}')\n",
    "def show_report(report_path: str) -> None:\n",
    "    \"\"\"\n",
    "    Load and display report data from a pickle file. The data can be of various types including\n",
    "    DataFrame, string, or Plotly chart. Uses a recursive method to handle nested data structures.\n",
    "\n",
    "    Args:\n",
    "        report_path (str): The path to the pickle file containing the report data.\n",
    "\n",
    "    Raises:\n",
    "        FileNotFoundError: If the report file is not found at the specified path.\n",
    "        Exception: If there is an error loading the report data.\n",
    "    \"\"\"\n",
    "    # Load dictionary of plotly figures from pickle file\n",
    "    try:\n",
    "        with open(report_path, 'rb') as f:\n",
    "            report = dill.load(f)\n",
    "    except FileNotFoundError:\n",
    "        raise FileNotFoundError(f'Report file not found at path: {report_path}')\n",
    "    except Exception as e:\n",
    "        raise Exception(f'Failed to load report data: {e}')\n",
    "\n",
    "    # Display the data\n",
    "    display_data(report)"
   ]
  },
  {
   "cell_type": "code",
   "execution_count": null,
   "metadata": {},
   "outputs": [],
   "source": [
    "display(Markdown(f'# {title}'))\n",
    "display(Markdown('---'))"
   ]
  },
  {
   "cell_type": "code",
   "execution_count": null,
   "metadata": {},
   "outputs": [],
   "source": [
    "show_report(report_path)"
   ]
  }
 ],
 "metadata": {
  "kernelspec": {
   "display_name": "base",
   "language": "python",
   "name": "python3"
  },
  "language_info": {
   "codemirror_mode": {
    "name": "ipython",
    "version": 3
   },
   "file_extension": ".py",
   "mimetype": "text/x-python",
   "name": "python",
   "nbconvert_exporter": "python",
   "pygments_lexer": "ipython3",
   "version": "3.12.4"
  }
 },
 "nbformat": 4,
 "nbformat_minor": 2
}
